{
 "cells": [
  {
   "cell_type": "code",
   "execution_count": 10,
   "id": "mexican-sentence",
   "metadata": {},
   "outputs": [],
   "source": [
    "import os \n",
    "import requests \n",
    "import scipy.io as sio\n",
    "from sklearn.datasets import fetch_openml\n",
    "import numpy as np\n",
    "import matplotlib.pyplot as plt\n",
    "from rbm import RBM\n",
    "from utils_projet import lire_alpha_digit, sigmoid\n",
    "from principal_RBM_alpha import init_RBM, entree_sortie_RBM,\\\n",
    "                                sortie_entree_RBM, train_RBM,\\\n",
    "                                generer_image_RBM"
   ]
  },
  {
   "cell_type": "markdown",
   "id": "connected-pizza",
   "metadata": {},
   "source": [
    "# Entrainer le RBM"
   ]
  },
  {
   "cell_type": "code",
   "execution_count": 11,
   "id": "adult-ozone",
   "metadata": {},
   "outputs": [
    {
     "name": "stdout",
     "output_type": "stream",
     "text": [
      "File already downloaded, using version in data folder..\n"
     ]
    }
   ],
   "source": [
    "# Récuperons les données\n",
    "digits_list = ['Z']\n",
    "# X a pour format (n, p). n = 39*nbr_digits pour alphadigits et 20*16 pixels par image\n",
    "X = lire_alpha_digit(digits_list)\n",
    "# Numéro de pixels de l'image\n",
    "p = X.shape[1]\n",
    "# numero de classes\n",
    "#q = len(digits_list)\n",
    "q = 100\n",
    "# Initializer le RBM \n",
    "rbm_unit = init_RBM(p, q)"
   ]
  },
  {
   "cell_type": "code",
   "execution_count": 12,
   "id": "coupled-watershed",
   "metadata": {},
   "outputs": [
    {
     "data": {
      "text/plain": [
       "39"
      ]
     },
     "execution_count": 12,
     "metadata": {},
     "output_type": "execute_result"
    }
   ],
   "source": [
    "len(X)"
   ]
  },
  {
   "cell_type": "code",
   "execution_count": 13,
   "id": "hungarian-sunrise",
   "metadata": {},
   "outputs": [
    {
     "name": "stdout",
     "output_type": "stream",
     "text": [
      "Epoch: 0 -- Erreur de reconstruction: 0.28950320512820515\n",
      "Epoch: 1 -- Erreur de reconstruction: 0.2641826923076923\n",
      "Epoch: 2 -- Erreur de reconstruction: 0.22716346153846154\n",
      "Epoch: 3 -- Erreur de reconstruction: 0.2153044871794872\n",
      "Epoch: 4 -- Erreur de reconstruction: 0.19607371794871795\n",
      "Epoch: 5 -- Erreur de reconstruction: 0.1778044871794872\n",
      "Epoch: 6 -- Erreur de reconstruction: 0.17443910256410255\n",
      "Epoch: 7 -- Erreur de reconstruction: 0.16025641025641027\n",
      "Epoch: 8 -- Erreur de reconstruction: 0.1560897435897436\n",
      "Epoch: 9 -- Erreur de reconstruction: 0.14815705128205128\n",
      "Epoch: 10 -- Erreur de reconstruction: 0.13862179487179488\n",
      "Epoch: 11 -- Erreur de reconstruction: 0.1342948717948718\n",
      "Epoch: 12 -- Erreur de reconstruction: 0.1296474358974359\n",
      "Epoch: 13 -- Erreur de reconstruction: 0.12556089743589743\n",
      "Epoch: 14 -- Erreur de reconstruction: 0.11666666666666667\n",
      "Epoch: 15 -- Erreur de reconstruction: 0.1155448717948718\n",
      "Epoch: 16 -- Erreur de reconstruction: 0.10977564102564102\n",
      "Epoch: 17 -- Erreur de reconstruction: 0.1077724358974359\n",
      "Epoch: 18 -- Erreur de reconstruction: 0.10416666666666667\n",
      "Epoch: 19 -- Erreur de reconstruction: 0.09431089743589743\n",
      "Epoch: 20 -- Erreur de reconstruction: 0.09326923076923077\n",
      "Epoch: 21 -- Erreur de reconstruction: 0.0907051282051282\n",
      "Epoch: 22 -- Erreur de reconstruction: 0.08806089743589744\n",
      "Epoch: 23 -- Erreur de reconstruction: 0.08798076923076924\n",
      "Epoch: 24 -- Erreur de reconstruction: 0.08469551282051282\n",
      "Epoch: 25 -- Erreur de reconstruction: 0.08100961538461539\n",
      "Epoch: 26 -- Erreur de reconstruction: 0.07443910256410256\n",
      "Epoch: 27 -- Erreur de reconstruction: 0.07355769230769231\n",
      "Epoch: 28 -- Erreur de reconstruction: 0.07275641025641026\n",
      "Epoch: 29 -- Erreur de reconstruction: 0.07075320512820513\n",
      "Epoch: 30 -- Erreur de reconstruction: 0.07243589743589744\n",
      "Epoch: 31 -- Erreur de reconstruction: 0.06274038461538461\n",
      "Epoch: 32 -- Erreur de reconstruction: 0.061939102564102566\n",
      "Epoch: 33 -- Erreur de reconstruction: 0.06153846153846154\n",
      "Epoch: 34 -- Erreur de reconstruction: 0.05961538461538462\n",
      "Epoch: 35 -- Erreur de reconstruction: 0.06041666666666667\n",
      "Epoch: 36 -- Erreur de reconstruction: 0.0577724358974359\n",
      "Epoch: 37 -- Erreur de reconstruction: 0.055608974358974356\n",
      "Epoch: 38 -- Erreur de reconstruction: 0.05576923076923077\n",
      "Epoch: 39 -- Erreur de reconstruction: 0.05384615384615385\n",
      "Epoch: 40 -- Erreur de reconstruction: 0.051923076923076926\n",
      "Epoch: 41 -- Erreur de reconstruction: 0.04887820512820513\n",
      "Epoch: 42 -- Erreur de reconstruction: 0.051362179487179485\n",
      "Epoch: 43 -- Erreur de reconstruction: 0.05200320512820513\n",
      "Epoch: 44 -- Erreur de reconstruction: 0.04879807692307692\n",
      "Epoch: 45 -- Erreur de reconstruction: 0.04639423076923077\n",
      "Epoch: 46 -- Erreur de reconstruction: 0.04807692307692308\n",
      "Epoch: 47 -- Erreur de reconstruction: 0.04503205128205128\n",
      "Epoch: 48 -- Erreur de reconstruction: 0.04455128205128205\n",
      "Epoch: 49 -- Erreur de reconstruction: 0.04358974358974359\n",
      "Epoch: 50 -- Erreur de reconstruction: 0.0438301282051282\n",
      "Epoch: 51 -- Erreur de reconstruction: 0.041506410256410255\n",
      "Epoch: 52 -- Erreur de reconstruction: 0.03766025641025641\n",
      "Epoch: 53 -- Erreur de reconstruction: 0.03782051282051282\n",
      "Epoch: 54 -- Erreur de reconstruction: 0.037419871794871794\n",
      "Epoch: 55 -- Erreur de reconstruction: 0.0375801282051282\n",
      "Epoch: 56 -- Erreur de reconstruction: 0.03790064102564102\n",
      "Epoch: 57 -- Erreur de reconstruction: 0.03533653846153846\n",
      "Epoch: 58 -- Erreur de reconstruction: 0.03565705128205128\n",
      "Epoch: 59 -- Erreur de reconstruction: 0.03621794871794872\n",
      "Epoch: 60 -- Erreur de reconstruction: 0.03413461538461538\n",
      "Epoch: 61 -- Erreur de reconstruction: 0.03485576923076923\n",
      "Epoch: 62 -- Erreur de reconstruction: 0.033012820512820513\n",
      "Epoch: 63 -- Erreur de reconstruction: 0.031650641025641024\n",
      "Epoch: 64 -- Erreur de reconstruction: 0.032852564102564104\n",
      "Epoch: 65 -- Erreur de reconstruction: 0.03189102564102564\n",
      "Epoch: 66 -- Erreur de reconstruction: 0.028685897435897435\n",
      "Epoch: 67 -- Erreur de reconstruction: 0.030448717948717948\n",
      "Epoch: 68 -- Erreur de reconstruction: 0.03092948717948718\n",
      "Epoch: 69 -- Erreur de reconstruction: 0.028685897435897435\n",
      "Epoch: 70 -- Erreur de reconstruction: 0.02956730769230769\n",
      "Epoch: 71 -- Erreur de reconstruction: 0.02844551282051282\n",
      "Epoch: 72 -- Erreur de reconstruction: 0.028044871794871796\n",
      "Epoch: 73 -- Erreur de reconstruction: 0.028685897435897435\n",
      "Epoch: 74 -- Erreur de reconstruction: 0.02716346153846154\n",
      "Epoch: 75 -- Erreur de reconstruction: 0.026522435897435897\n",
      "Epoch: 76 -- Erreur de reconstruction: 0.029647435897435896\n",
      "Epoch: 77 -- Erreur de reconstruction: 0.024919871794871797\n",
      "Epoch: 78 -- Erreur de reconstruction: 0.028044871794871796\n",
      "Epoch: 79 -- Erreur de reconstruction: 0.027804487179487178\n",
      "Epoch: 80 -- Erreur de reconstruction: 0.024759615384615383\n",
      "Epoch: 81 -- Erreur de reconstruction: 0.022996794871794873\n",
      "Epoch: 82 -- Erreur de reconstruction: 0.026682692307692307\n",
      "Epoch: 83 -- Erreur de reconstruction: 0.02548076923076923\n",
      "Epoch: 84 -- Erreur de reconstruction: 0.025961538461538463\n",
      "Epoch: 85 -- Erreur de reconstruction: 0.024759615384615383\n",
      "Epoch: 86 -- Erreur de reconstruction: 0.027243589743589744\n",
      "Epoch: 87 -- Erreur de reconstruction: 0.021955128205128203\n",
      "Epoch: 88 -- Erreur de reconstruction: 0.023958333333333335\n",
      "Epoch: 89 -- Erreur de reconstruction: 0.022435897435897436\n",
      "Epoch: 90 -- Erreur de reconstruction: 0.02155448717948718\n",
      "Epoch: 91 -- Erreur de reconstruction: 0.022996794871794873\n",
      "Epoch: 92 -- Erreur de reconstruction: 0.020753205128205127\n",
      "Epoch: 93 -- Erreur de reconstruction: 0.02451923076923077\n",
      "Epoch: 94 -- Erreur de reconstruction: 0.020673076923076922\n",
      "Epoch: 95 -- Erreur de reconstruction: 0.022435897435897436\n",
      "Epoch: 96 -- Erreur de reconstruction: 0.023637820512820512\n",
      "Epoch: 97 -- Erreur de reconstruction: 0.022596153846153846\n",
      "Epoch: 98 -- Erreur de reconstruction: 0.020432692307692308\n",
      "Epoch: 99 -- Erreur de reconstruction: 0.021955128205128203\n",
      "Epoch: 100 -- Erreur de reconstruction: 0.02251602564102564\n",
      "Epoch: 101 -- Erreur de reconstruction: 0.020032051282051284\n",
      "Epoch: 102 -- Erreur de reconstruction: 0.018990384615384614\n",
      "Epoch: 103 -- Erreur de reconstruction: 0.019631410256410256\n",
      "Epoch: 104 -- Erreur de reconstruction: 0.018669871794871794\n",
      "Epoch: 105 -- Erreur de reconstruction: 0.01610576923076923\n",
      "Epoch: 106 -- Erreur de reconstruction: 0.020673076923076922\n",
      "Epoch: 107 -- Erreur de reconstruction: 0.02011217948717949\n",
      "Epoch: 108 -- Erreur de reconstruction: 0.018830128205128204\n",
      "Epoch: 109 -- Erreur de reconstruction: 0.01875\n",
      "Epoch: 110 -- Erreur de reconstruction: 0.01875\n",
      "Epoch: 111 -- Erreur de reconstruction: 0.02011217948717949\n",
      "Epoch: 112 -- Erreur de reconstruction: 0.019951923076923075\n",
      "Epoch: 113 -- Erreur de reconstruction: 0.0171474358974359\n",
      "Epoch: 114 -- Erreur de reconstruction: 0.016025641025641024\n",
      "Epoch: 115 -- Erreur de reconstruction: 0.017628205128205128\n",
      "Epoch: 116 -- Erreur de reconstruction: 0.017948717948717947\n",
      "Epoch: 117 -- Erreur de reconstruction: 0.0171474358974359\n",
      "Epoch: 118 -- Erreur de reconstruction: 0.015304487179487179\n",
      "Epoch: 119 -- Erreur de reconstruction: 0.016426282051282052\n",
      "Epoch: 120 -- Erreur de reconstruction: 0.018990384615384614\n",
      "Epoch: 121 -- Erreur de reconstruction: 0.01594551282051282\n",
      "Epoch: 122 -- Erreur de reconstruction: 0.016346153846153847\n",
      "Epoch: 123 -- Erreur de reconstruction: 0.016346153846153847\n",
      "Epoch: 124 -- Erreur de reconstruction: 0.015865384615384615\n",
      "Epoch: 125 -- Erreur de reconstruction: 0.01674679487179487\n",
      "Epoch: 126 -- Erreur de reconstruction: 0.016506410256410257\n",
      "Epoch: 127 -- Erreur de reconstruction: 0.015304487179487179\n",
      "Epoch: 128 -- Erreur de reconstruction: 0.016185897435897437\n",
      "Epoch: 129 -- Erreur de reconstruction: 0.013221153846153846\n",
      "Epoch: 130 -- Erreur de reconstruction: 0.014743589743589743\n",
      "Epoch: 131 -- Erreur de reconstruction: 0.01498397435897436\n",
      "Epoch: 132 -- Erreur de reconstruction: 0.015384615384615385\n",
      "Epoch: 133 -- Erreur de reconstruction: 0.01594551282051282\n",
      "Epoch: 134 -- Erreur de reconstruction: 0.01498397435897436\n",
      "Epoch: 135 -- Erreur de reconstruction: 0.013782051282051282\n",
      "Epoch: 136 -- Erreur de reconstruction: 0.013942307692307693\n",
      "Epoch: 137 -- Erreur de reconstruction: 0.013701923076923077\n",
      "Epoch: 138 -- Erreur de reconstruction: 0.016185897435897437\n",
      "Epoch: 139 -- Erreur de reconstruction: 0.014423076923076924\n",
      "Epoch: 140 -- Erreur de reconstruction: 0.014182692307692308\n",
      "Epoch: 141 -- Erreur de reconstruction: 0.013621794871794872\n",
      "Epoch: 142 -- Erreur de reconstruction: 0.014342948717948717\n",
      "Epoch: 143 -- Erreur de reconstruction: 0.013701923076923077\n",
      "Epoch: 144 -- Erreur de reconstruction: 0.01330128205128205\n",
      "Epoch: 145 -- Erreur de reconstruction: 0.013621794871794872\n",
      "Epoch: 146 -- Erreur de reconstruction: 0.012580128205128206\n",
      "Epoch: 147 -- Erreur de reconstruction: 0.0125\n",
      "Epoch: 148 -- Erreur de reconstruction: 0.013381410256410256\n",
      "Epoch: 149 -- Erreur de reconstruction: 0.013141025641025641\n",
      "Epoch: 150 -- Erreur de reconstruction: 0.011618589743589744\n",
      "Epoch: 151 -- Erreur de reconstruction: 0.013541666666666667\n",
      "Epoch: 152 -- Erreur de reconstruction: 0.013141025641025641\n",
      "Epoch: 153 -- Erreur de reconstruction: 0.012740384615384615\n",
      "Epoch: 154 -- Erreur de reconstruction: 0.013141025641025641\n",
      "Epoch: 155 -- Erreur de reconstruction: 0.013381410256410256\n",
      "Epoch: 156 -- Erreur de reconstruction: 0.01330128205128205\n",
      "Epoch: 157 -- Erreur de reconstruction: 0.014903846153846155\n",
      "Epoch: 158 -- Erreur de reconstruction: 0.010176282051282052\n",
      "Epoch: 159 -- Erreur de reconstruction: 0.012980769230769231\n",
      "Epoch: 160 -- Erreur de reconstruction: 0.010576923076923078\n",
      "Epoch: 161 -- Erreur de reconstruction: 0.011298076923076923\n",
      "Epoch: 162 -- Erreur de reconstruction: 0.012259615384615384\n",
      "Epoch: 163 -- Erreur de reconstruction: 0.013381410256410256\n",
      "Epoch: 164 -- Erreur de reconstruction: 0.011217948717948718\n",
      "Epoch: 165 -- Erreur de reconstruction: 0.01266025641025641\n",
      "Epoch: 166 -- Erreur de reconstruction: 0.012580128205128206\n",
      "Epoch: 167 -- Erreur de reconstruction: 0.010336538461538461\n",
      "Epoch: 168 -- Erreur de reconstruction: 0.012980769230769231\n",
      "Epoch: 169 -- Erreur de reconstruction: 0.010336538461538461\n",
      "Epoch: 170 -- Erreur de reconstruction: 0.010416666666666666\n",
      "Epoch: 171 -- Erreur de reconstruction: 0.01201923076923077\n",
      "Epoch: 172 -- Erreur de reconstruction: 0.010817307692307692\n",
      "Epoch: 173 -- Erreur de reconstruction: 0.010817307692307692\n",
      "Epoch: 174 -- Erreur de reconstruction: 0.010657051282051282\n",
      "Epoch: 175 -- Erreur de reconstruction: 0.008814102564102564\n",
      "Epoch: 176 -- Erreur de reconstruction: 0.010256410256410256\n",
      "Epoch: 177 -- Erreur de reconstruction: 0.01217948717948718\n",
      "Epoch: 178 -- Erreur de reconstruction: 0.01233974358974359\n",
      "Epoch: 179 -- Erreur de reconstruction: 0.010176282051282052\n",
      "Epoch: 180 -- Erreur de reconstruction: 0.010496794871794871\n",
      "Epoch: 181 -- Erreur de reconstruction: 0.011378205128205128\n",
      "Epoch: 182 -- Erreur de reconstruction: 0.011778846153846154\n",
      "Epoch: 183 -- Erreur de reconstruction: 0.011298076923076923\n",
      "Epoch: 184 -- Erreur de reconstruction: 0.010176282051282052\n",
      "Epoch: 185 -- Erreur de reconstruction: 0.010737179487179487\n",
      "Epoch: 186 -- Erreur de reconstruction: 0.011057692307692308\n",
      "Epoch: 187 -- Erreur de reconstruction: 0.010496794871794871\n",
      "Epoch: 188 -- Erreur de reconstruction: 0.010897435897435897\n",
      "Epoch: 189 -- Erreur de reconstruction: 0.010737179487179487\n",
      "Epoch: 190 -- Erreur de reconstruction: 0.009775641025641026\n",
      "Epoch: 191 -- Erreur de reconstruction: 0.01330128205128205\n",
      "Epoch: 192 -- Erreur de reconstruction: 0.012099358974358975\n",
      "Epoch: 193 -- Erreur de reconstruction: 0.010176282051282052\n",
      "Epoch: 194 -- Erreur de reconstruction: 0.008653846153846154\n",
      "Epoch: 195 -- Erreur de reconstruction: 0.010576923076923078\n",
      "Epoch: 196 -- Erreur de reconstruction: 0.009775641025641026\n",
      "Epoch: 197 -- Erreur de reconstruction: 0.009615384615384616\n",
      "Epoch: 198 -- Erreur de reconstruction: 0.008253205128205128\n",
      "Epoch: 199 -- Erreur de reconstruction: 0.009775641025641026\n",
      "Epoch: 200 -- Erreur de reconstruction: 0.011057692307692308\n",
      "Epoch: 201 -- Erreur de reconstruction: 0.009935897435897435\n",
      "Epoch: 202 -- Erreur de reconstruction: 0.008253205128205128\n",
      "Epoch: 203 -- Erreur de reconstruction: 0.008173076923076924\n",
      "Epoch: 204 -- Erreur de reconstruction: 0.009775641025641026\n",
      "Epoch: 205 -- Erreur de reconstruction: 0.009294871794871795\n",
      "Epoch: 206 -- Erreur de reconstruction: 0.008894230769230769\n",
      "Epoch: 207 -- Erreur de reconstruction: 0.010176282051282052\n",
      "Epoch: 208 -- Erreur de reconstruction: 0.007932692307692307\n",
      "Epoch: 209 -- Erreur de reconstruction: 0.008173076923076924\n",
      "Epoch: 210 -- Erreur de reconstruction: 0.008253205128205128\n",
      "Epoch: 211 -- Erreur de reconstruction: 0.009134615384615385\n",
      "Epoch: 212 -- Erreur de reconstruction: 0.00921474358974359\n",
      "Epoch: 213 -- Erreur de reconstruction: 0.009455128205128204\n",
      "Epoch: 214 -- Erreur de reconstruction: 0.008012820512820512\n",
      "Epoch: 215 -- Erreur de reconstruction: 0.010176282051282052\n",
      "Epoch: 216 -- Erreur de reconstruction: 0.008333333333333333\n",
      "Epoch: 217 -- Erreur de reconstruction: 0.009535256410256411\n",
      "Epoch: 218 -- Erreur de reconstruction: 0.008974358974358974\n",
      "Epoch: 219 -- Erreur de reconstruction: 0.010256410256410256\n",
      "Epoch: 220 -- Erreur de reconstruction: 0.008012820512820512\n",
      "Epoch: 221 -- Erreur de reconstruction: 0.008814102564102564\n",
      "Epoch: 222 -- Erreur de reconstruction: 0.007291666666666667\n",
      "Epoch: 223 -- Erreur de reconstruction: 0.00905448717948718\n",
      "Epoch: 224 -- Erreur de reconstruction: 0.008413461538461538\n",
      "Epoch: 225 -- Erreur de reconstruction: 0.008413461538461538\n",
      "Epoch: 226 -- Erreur de reconstruction: 0.008814102564102564\n",
      "Epoch: 227 -- Erreur de reconstruction: 0.008814102564102564\n",
      "Epoch: 228 -- Erreur de reconstruction: 0.00873397435897436\n",
      "Epoch: 229 -- Erreur de reconstruction: 0.008092948717948719\n",
      "Epoch: 230 -- Erreur de reconstruction: 0.007852564102564102\n",
      "Epoch: 231 -- Erreur de reconstruction: 0.007451923076923077\n",
      "Epoch: 232 -- Erreur de reconstruction: 0.008653846153846154\n",
      "Epoch: 233 -- Erreur de reconstruction: 0.007932692307692307\n",
      "Epoch: 234 -- Erreur de reconstruction: 0.007692307692307693\n",
      "Epoch: 235 -- Erreur de reconstruction: 0.007371794871794872\n",
      "Epoch: 236 -- Erreur de reconstruction: 0.00921474358974359\n",
      "Epoch: 237 -- Erreur de reconstruction: 0.007532051282051282\n",
      "Epoch: 238 -- Erreur de reconstruction: 0.007772435897435898\n",
      "Epoch: 239 -- Erreur de reconstruction: 0.006810897435897436\n",
      "Epoch: 240 -- Erreur de reconstruction: 0.008173076923076924\n",
      "Epoch: 241 -- Erreur de reconstruction: 0.007451923076923077\n",
      "Epoch: 242 -- Erreur de reconstruction: 0.006810897435897436\n",
      "Epoch: 243 -- Erreur de reconstruction: 0.007371794871794872\n",
      "Epoch: 244 -- Erreur de reconstruction: 0.007852564102564102\n",
      "Epoch: 245 -- Erreur de reconstruction: 0.008413461538461538\n",
      "Epoch: 246 -- Erreur de reconstruction: 0.008974358974358974\n",
      "Epoch: 247 -- Erreur de reconstruction: 0.008333333333333333\n",
      "Epoch: 248 -- Erreur de reconstruction: 0.007772435897435898\n",
      "Epoch: 249 -- Erreur de reconstruction: 0.006650641025641025\n",
      "Epoch: 250 -- Erreur de reconstruction: 0.007692307692307693\n",
      "Epoch: 251 -- Erreur de reconstruction: 0.007692307692307693\n",
      "Epoch: 252 -- Erreur de reconstruction: 0.007612179487179487\n",
      "Epoch: 253 -- Erreur de reconstruction: 0.006730769230769231\n",
      "Epoch: 254 -- Erreur de reconstruction: 0.006650641025641025\n",
      "Epoch: 255 -- Erreur de reconstruction: 0.007692307692307693\n",
      "Epoch: 256 -- Erreur de reconstruction: 0.007051282051282051\n",
      "Epoch: 257 -- Erreur de reconstruction: 0.008253205128205128\n",
      "Epoch: 258 -- Erreur de reconstruction: 0.006330128205128205\n",
      "Epoch: 259 -- Erreur de reconstruction: 0.008253205128205128\n",
      "Epoch: 260 -- Erreur de reconstruction: 0.008173076923076924\n",
      "Epoch: 261 -- Erreur de reconstruction: 0.008974358974358974\n",
      "Epoch: 262 -- Erreur de reconstruction: 0.007211538461538462\n",
      "Epoch: 263 -- Erreur de reconstruction: 0.006891025641025641\n",
      "Epoch: 264 -- Erreur de reconstruction: 0.007852564102564102\n",
      "Epoch: 265 -- Erreur de reconstruction: 0.006650641025641025\n",
      "Epoch: 266 -- Erreur de reconstruction: 0.0069711538461538465\n",
      "Epoch: 267 -- Erreur de reconstruction: 0.006891025641025641\n",
      "Epoch: 268 -- Erreur de reconstruction: 0.0069711538461538465\n",
      "Epoch: 269 -- Erreur de reconstruction: 0.006330128205128205\n",
      "Epoch: 270 -- Erreur de reconstruction: 0.008413461538461538\n",
      "Epoch: 271 -- Erreur de reconstruction: 0.00641025641025641\n",
      "Epoch: 272 -- Erreur de reconstruction: 0.008012820512820512\n",
      "Epoch: 273 -- Erreur de reconstruction: 0.00641025641025641\n",
      "Epoch: 274 -- Erreur de reconstruction: 0.006490384615384616\n",
      "Epoch: 275 -- Erreur de reconstruction: 0.006490384615384616\n",
      "Epoch: 276 -- Erreur de reconstruction: 0.0069711538461538465\n",
      "Epoch: 277 -- Erreur de reconstruction: 0.007532051282051282\n",
      "Epoch: 278 -- Erreur de reconstruction: 0.00608974358974359\n",
      "Epoch: 279 -- Erreur de reconstruction: 0.007211538461538462\n",
      "Epoch: 280 -- Erreur de reconstruction: 0.007051282051282051\n",
      "Epoch: 281 -- Erreur de reconstruction: 0.00625\n",
      "Epoch: 282 -- Erreur de reconstruction: 0.005608974358974359\n",
      "Epoch: 283 -- Erreur de reconstruction: 0.007772435897435898\n",
      "Epoch: 284 -- Erreur de reconstruction: 0.007291666666666667\n",
      "Epoch: 285 -- Erreur de reconstruction: 0.007451923076923077\n",
      "Epoch: 286 -- Erreur de reconstruction: 0.006330128205128205\n",
      "Epoch: 287 -- Erreur de reconstruction: 0.007451923076923077\n",
      "Epoch: 288 -- Erreur de reconstruction: 0.0069711538461538465\n",
      "Epoch: 289 -- Erreur de reconstruction: 0.006009615384615385\n",
      "Epoch: 290 -- Erreur de reconstruction: 0.006009615384615385\n",
      "Epoch: 291 -- Erreur de reconstruction: 0.006330128205128205\n",
      "Epoch: 292 -- Erreur de reconstruction: 0.007211538461538462\n",
      "Epoch: 293 -- Erreur de reconstruction: 0.006490384615384616\n",
      "Epoch: 294 -- Erreur de reconstruction: 0.007532051282051282\n",
      "Epoch: 295 -- Erreur de reconstruction: 0.005689102564102564\n",
      "Epoch: 296 -- Erreur de reconstruction: 0.006169871794871795\n",
      "Epoch: 297 -- Erreur de reconstruction: 0.008173076923076924\n",
      "Epoch: 298 -- Erreur de reconstruction: 0.005929487179487179\n",
      "Epoch: 299 -- Erreur de reconstruction: 0.0069711538461538465\n",
      "Epoch: 300 -- Erreur de reconstruction: 0.006169871794871795\n",
      "Epoch: 301 -- Erreur de reconstruction: 0.005929487179487179\n",
      "Epoch: 302 -- Erreur de reconstruction: 0.00608974358974359\n",
      "Epoch: 303 -- Erreur de reconstruction: 0.006169871794871795\n",
      "Epoch: 304 -- Erreur de reconstruction: 0.005929487179487179\n",
      "Epoch: 305 -- Erreur de reconstruction: 0.00625\n",
      "Epoch: 306 -- Erreur de reconstruction: 0.005288461538461539\n",
      "Epoch: 307 -- Erreur de reconstruction: 0.007051282051282051\n",
      "Epoch: 308 -- Erreur de reconstruction: 0.006490384615384616\n",
      "Epoch: 309 -- Erreur de reconstruction: 0.004727564102564102\n",
      "Epoch: 310 -- Erreur de reconstruction: 0.005528846153846154\n",
      "Epoch: 311 -- Erreur de reconstruction: 0.006810897435897436\n",
      "Epoch: 312 -- Erreur de reconstruction: 0.005849358974358974\n",
      "Epoch: 313 -- Erreur de reconstruction: 0.006810897435897436\n",
      "Epoch: 314 -- Erreur de reconstruction: 0.007772435897435898\n",
      "Epoch: 315 -- Erreur de reconstruction: 0.005528846153846154\n",
      "Epoch: 316 -- Erreur de reconstruction: 0.005929487179487179\n",
      "Epoch: 317 -- Erreur de reconstruction: 0.005128205128205128\n",
      "Epoch: 318 -- Erreur de reconstruction: 0.005528846153846154\n",
      "Epoch: 319 -- Erreur de reconstruction: 0.004727564102564102\n",
      "Epoch: 320 -- Erreur de reconstruction: 0.004326923076923077\n",
      "Epoch: 321 -- Erreur de reconstruction: 0.006330128205128205\n",
      "Epoch: 322 -- Erreur de reconstruction: 0.00625\n",
      "Epoch: 323 -- Erreur de reconstruction: 0.005368589743589744\n",
      "Epoch: 324 -- Erreur de reconstruction: 0.0057692307692307696\n",
      "Epoch: 325 -- Erreur de reconstruction: 0.006169871794871795\n",
      "Epoch: 326 -- Erreur de reconstruction: 0.0069711538461538465\n",
      "Epoch: 327 -- Erreur de reconstruction: 0.006891025641025641\n",
      "Epoch: 328 -- Erreur de reconstruction: 0.0057692307692307696\n",
      "Epoch: 329 -- Erreur de reconstruction: 0.004326923076923077\n",
      "Epoch: 330 -- Erreur de reconstruction: 0.005368589743589744\n",
      "Epoch: 331 -- Erreur de reconstruction: 0.004647435897435897\n",
      "Epoch: 332 -- Erreur de reconstruction: 0.005849358974358974\n",
      "Epoch: 333 -- Erreur de reconstruction: 0.005849358974358974\n",
      "Epoch: 334 -- Erreur de reconstruction: 0.006650641025641025\n",
      "Epoch: 335 -- Erreur de reconstruction: 0.005929487179487179\n",
      "Epoch: 336 -- Erreur de reconstruction: 0.0042467948717948715\n",
      "Epoch: 337 -- Erreur de reconstruction: 0.005929487179487179\n",
      "Epoch: 338 -- Erreur de reconstruction: 0.006570512820512821\n",
      "Epoch: 339 -- Erreur de reconstruction: 0.005048076923076923\n",
      "Epoch: 340 -- Erreur de reconstruction: 0.00608974358974359\n",
      "Epoch: 341 -- Erreur de reconstruction: 0.005528846153846154\n",
      "Epoch: 342 -- Erreur de reconstruction: 0.004807692307692308\n",
      "Epoch: 343 -- Erreur de reconstruction: 0.006570512820512821\n",
      "Epoch: 344 -- Erreur de reconstruction: 0.006330128205128205\n",
      "Epoch: 345 -- Erreur de reconstruction: 0.006730769230769231\n",
      "Epoch: 346 -- Erreur de reconstruction: 0.005048076923076923\n",
      "Epoch: 347 -- Erreur de reconstruction: 0.0057692307692307696\n",
      "Epoch: 348 -- Erreur de reconstruction: 0.005849358974358974\n",
      "Epoch: 349 -- Erreur de reconstruction: 0.0054487179487179484\n",
      "Epoch: 350 -- Erreur de reconstruction: 0.006490384615384616\n",
      "Epoch: 351 -- Erreur de reconstruction: 0.005528846153846154\n",
      "Epoch: 352 -- Erreur de reconstruction: 0.004407051282051282\n",
      "Epoch: 353 -- Erreur de reconstruction: 0.004727564102564102\n",
      "Epoch: 354 -- Erreur de reconstruction: 0.005128205128205128\n",
      "Epoch: 355 -- Erreur de reconstruction: 0.0045673076923076926\n",
      "Epoch: 356 -- Erreur de reconstruction: 0.00608974358974359\n",
      "Epoch: 357 -- Erreur de reconstruction: 0.004647435897435897\n",
      "Epoch: 358 -- Erreur de reconstruction: 0.0054487179487179484\n",
      "Epoch: 359 -- Erreur de reconstruction: 0.005528846153846154\n",
      "Epoch: 360 -- Erreur de reconstruction: 0.006009615384615385\n",
      "Epoch: 361 -- Erreur de reconstruction: 0.0054487179487179484\n",
      "Epoch: 362 -- Erreur de reconstruction: 0.005689102564102564\n",
      "Epoch: 363 -- Erreur de reconstruction: 0.006169871794871795\n",
      "Epoch: 364 -- Erreur de reconstruction: 0.00625\n",
      "Epoch: 365 -- Erreur de reconstruction: 0.005048076923076923\n",
      "Epoch: 366 -- Erreur de reconstruction: 0.004807692307692308\n",
      "Epoch: 367 -- Erreur de reconstruction: 0.005288461538461539\n",
      "Epoch: 368 -- Erreur de reconstruction: 0.004086538461538462\n",
      "Epoch: 369 -- Erreur de reconstruction: 0.004887820512820513\n",
      "Epoch: 370 -- Erreur de reconstruction: 0.005689102564102564\n",
      "Epoch: 371 -- Erreur de reconstruction: 0.005528846153846154\n",
      "Epoch: 372 -- Erreur de reconstruction: 0.006810897435897436\n",
      "Epoch: 373 -- Erreur de reconstruction: 0.003926282051282051\n",
      "Epoch: 374 -- Erreur de reconstruction: 0.0054487179487179484\n",
      "Epoch: 375 -- Erreur de reconstruction: 0.003766025641025641\n",
      "Epoch: 376 -- Erreur de reconstruction: 0.00625\n",
      "Epoch: 377 -- Erreur de reconstruction: 0.005208333333333333\n",
      "Epoch: 378 -- Erreur de reconstruction: 0.004807692307692308\n",
      "Epoch: 379 -- Erreur de reconstruction: 0.004887820512820513\n",
      "Epoch: 380 -- Erreur de reconstruction: 0.005849358974358974\n",
      "Epoch: 381 -- Erreur de reconstruction: 0.005128205128205128\n",
      "Epoch: 382 -- Erreur de reconstruction: 0.004647435897435897\n",
      "Epoch: 383 -- Erreur de reconstruction: 0.005128205128205128\n",
      "Epoch: 384 -- Erreur de reconstruction: 0.005208333333333333\n",
      "Epoch: 385 -- Erreur de reconstruction: 0.005368589743589744\n",
      "Epoch: 386 -- Erreur de reconstruction: 0.005849358974358974\n",
      "Epoch: 387 -- Erreur de reconstruction: 0.004407051282051282\n",
      "Epoch: 388 -- Erreur de reconstruction: 0.004967948717948718\n",
      "Epoch: 389 -- Erreur de reconstruction: 0.004967948717948718\n",
      "Epoch: 390 -- Erreur de reconstruction: 0.004967948717948718\n",
      "Epoch: 391 -- Erreur de reconstruction: 0.004407051282051282\n",
      "Epoch: 392 -- Erreur de reconstruction: 0.004647435897435897\n",
      "Epoch: 393 -- Erreur de reconstruction: 0.005128205128205128\n",
      "Epoch: 394 -- Erreur de reconstruction: 0.005929487179487179\n",
      "Epoch: 395 -- Erreur de reconstruction: 0.003766025641025641\n",
      "Epoch: 396 -- Erreur de reconstruction: 0.0042467948717948715\n",
      "Epoch: 397 -- Erreur de reconstruction: 0.004647435897435897\n",
      "Epoch: 398 -- Erreur de reconstruction: 0.004006410256410256\n",
      "Epoch: 399 -- Erreur de reconstruction: 0.004967948717948718\n",
      "Epoch: 400 -- Erreur de reconstruction: 0.004967948717948718\n",
      "Epoch: 401 -- Erreur de reconstruction: 0.005528846153846154\n",
      "Epoch: 402 -- Erreur de reconstruction: 0.004487179487179487\n",
      "Epoch: 403 -- Erreur de reconstruction: 0.005528846153846154\n",
      "Epoch: 404 -- Erreur de reconstruction: 0.005128205128205128\n",
      "Epoch: 405 -- Erreur de reconstruction: 0.005288461538461539\n",
      "Epoch: 406 -- Erreur de reconstruction: 0.0054487179487179484\n",
      "Epoch: 407 -- Erreur de reconstruction: 0.0057692307692307696\n",
      "Epoch: 408 -- Erreur de reconstruction: 0.0034455128205128204\n",
      "Epoch: 409 -- Erreur de reconstruction: 0.0033653846153846156\n",
      "Epoch: 410 -- Erreur de reconstruction: 0.005368589743589744\n",
      "Epoch: 411 -- Erreur de reconstruction: 0.0042467948717948715\n",
      "Epoch: 412 -- Erreur de reconstruction: 0.004166666666666667\n",
      "Epoch: 413 -- Erreur de reconstruction: 0.0038461538461538464\n",
      "Epoch: 414 -- Erreur de reconstruction: 0.003605769230769231\n",
      "Epoch: 415 -- Erreur de reconstruction: 0.005128205128205128\n",
      "Epoch: 416 -- Erreur de reconstruction: 0.0042467948717948715\n",
      "Epoch: 417 -- Erreur de reconstruction: 0.005208333333333333\n",
      "Epoch: 418 -- Erreur de reconstruction: 0.005208333333333333\n",
      "Epoch: 419 -- Erreur de reconstruction: 0.003766025641025641\n",
      "Epoch: 420 -- Erreur de reconstruction: 0.0042467948717948715\n",
      "Epoch: 421 -- Erreur de reconstruction: 0.004727564102564102\n",
      "Epoch: 422 -- Erreur de reconstruction: 0.004487179487179487\n",
      "Epoch: 423 -- Erreur de reconstruction: 0.0042467948717948715\n",
      "Epoch: 424 -- Erreur de reconstruction: 0.0035256410256410257\n",
      "Epoch: 425 -- Erreur de reconstruction: 0.0045673076923076926\n",
      "Epoch: 426 -- Erreur de reconstruction: 0.0034455128205128204\n",
      "Epoch: 427 -- Erreur de reconstruction: 0.004006410256410256\n",
      "Epoch: 428 -- Erreur de reconstruction: 0.004326923076923077\n",
      "Epoch: 429 -- Erreur de reconstruction: 0.004727564102564102\n",
      "Epoch: 430 -- Erreur de reconstruction: 0.0045673076923076926\n",
      "Epoch: 431 -- Erreur de reconstruction: 0.005288461538461539\n",
      "Epoch: 432 -- Erreur de reconstruction: 0.004166666666666667\n",
      "Epoch: 433 -- Erreur de reconstruction: 0.0045673076923076926\n",
      "Epoch: 434 -- Erreur de reconstruction: 0.004407051282051282\n",
      "Epoch: 435 -- Erreur de reconstruction: 0.0042467948717948715\n",
      "Epoch: 436 -- Erreur de reconstruction: 0.0038461538461538464\n",
      "Epoch: 437 -- Erreur de reconstruction: 0.005608974358974359\n",
      "Epoch: 438 -- Erreur de reconstruction: 0.004807692307692308\n",
      "Epoch: 439 -- Erreur de reconstruction: 0.004407051282051282\n",
      "Epoch: 440 -- Erreur de reconstruction: 0.003685897435897436\n",
      "Epoch: 441 -- Erreur de reconstruction: 0.0035256410256410257\n",
      "Epoch: 442 -- Erreur de reconstruction: 0.004487179487179487\n",
      "Epoch: 443 -- Erreur de reconstruction: 0.004326923076923077\n",
      "Epoch: 444 -- Erreur de reconstruction: 0.004166666666666667\n",
      "Epoch: 445 -- Erreur de reconstruction: 0.004407051282051282\n",
      "Epoch: 446 -- Erreur de reconstruction: 0.004647435897435897\n",
      "Epoch: 447 -- Erreur de reconstruction: 0.004166666666666667\n",
      "Epoch: 448 -- Erreur de reconstruction: 0.003605769230769231\n",
      "Epoch: 449 -- Erreur de reconstruction: 0.004407051282051282\n",
      "Epoch: 450 -- Erreur de reconstruction: 0.004326923076923077\n",
      "Epoch: 451 -- Erreur de reconstruction: 0.004807692307692308\n",
      "Epoch: 452 -- Erreur de reconstruction: 0.004326923076923077\n",
      "Epoch: 453 -- Erreur de reconstruction: 0.004487179487179487\n",
      "Epoch: 454 -- Erreur de reconstruction: 0.004647435897435897\n",
      "Epoch: 455 -- Erreur de reconstruction: 0.004006410256410256\n",
      "Epoch: 456 -- Erreur de reconstruction: 0.003125\n",
      "Epoch: 457 -- Erreur de reconstruction: 0.004967948717948718\n",
      "Epoch: 458 -- Erreur de reconstruction: 0.005368589743589744\n",
      "Epoch: 459 -- Erreur de reconstruction: 0.003926282051282051\n",
      "Epoch: 460 -- Erreur de reconstruction: 0.004487179487179487\n",
      "Epoch: 461 -- Erreur de reconstruction: 0.0038461538461538464\n",
      "Epoch: 462 -- Erreur de reconstruction: 0.003605769230769231\n",
      "Epoch: 463 -- Erreur de reconstruction: 0.004647435897435897\n",
      "Epoch: 464 -- Erreur de reconstruction: 0.003766025641025641\n",
      "Epoch: 465 -- Erreur de reconstruction: 0.004407051282051282\n",
      "Epoch: 466 -- Erreur de reconstruction: 0.0057692307692307696\n",
      "Epoch: 467 -- Erreur de reconstruction: 0.0034455128205128204\n",
      "Epoch: 468 -- Erreur de reconstruction: 0.0035256410256410257\n",
      "Epoch: 469 -- Erreur de reconstruction: 0.004086538461538462\n",
      "Epoch: 470 -- Erreur de reconstruction: 0.0042467948717948715\n",
      "Epoch: 471 -- Erreur de reconstruction: 0.004166666666666667\n",
      "Epoch: 472 -- Erreur de reconstruction: 0.003766025641025641\n",
      "Epoch: 473 -- Erreur de reconstruction: 0.003685897435897436\n",
      "Epoch: 474 -- Erreur de reconstruction: 0.0034455128205128204\n",
      "Epoch: 475 -- Erreur de reconstruction: 0.003044871794871795\n",
      "Epoch: 476 -- Erreur de reconstruction: 0.004006410256410256\n",
      "Epoch: 477 -- Erreur de reconstruction: 0.003125\n",
      "Epoch: 478 -- Erreur de reconstruction: 0.0034455128205128204\n",
      "Epoch: 479 -- Erreur de reconstruction: 0.0038461538461538464\n",
      "Epoch: 480 -- Erreur de reconstruction: 0.004326923076923077\n",
      "Epoch: 481 -- Erreur de reconstruction: 0.0042467948717948715\n",
      "Epoch: 482 -- Erreur de reconstruction: 0.004006410256410256\n",
      "Epoch: 483 -- Erreur de reconstruction: 0.0032852564102564103\n",
      "Epoch: 484 -- Erreur de reconstruction: 0.003605769230769231\n",
      "Epoch: 485 -- Erreur de reconstruction: 0.0038461538461538464\n",
      "Epoch: 486 -- Erreur de reconstruction: 0.003926282051282051\n",
      "Epoch: 487 -- Erreur de reconstruction: 0.0038461538461538464\n",
      "Epoch: 488 -- Erreur de reconstruction: 0.003605769230769231\n",
      "Epoch: 489 -- Erreur de reconstruction: 0.004807692307692308\n",
      "Epoch: 490 -- Erreur de reconstruction: 0.0028044871794871795\n",
      "Epoch: 491 -- Erreur de reconstruction: 0.003205128205128205\n",
      "Epoch: 492 -- Erreur de reconstruction: 0.0035256410256410257\n",
      "Epoch: 493 -- Erreur de reconstruction: 0.004166666666666667\n",
      "Epoch: 494 -- Erreur de reconstruction: 0.003605769230769231\n",
      "Epoch: 495 -- Erreur de reconstruction: 0.003685897435897436\n",
      "Epoch: 496 -- Erreur de reconstruction: 0.004407051282051282\n",
      "Epoch: 497 -- Erreur de reconstruction: 0.005608974358974359\n",
      "Epoch: 498 -- Erreur de reconstruction: 0.003926282051282051\n",
      "Epoch: 499 -- Erreur de reconstruction: 0.004407051282051282\n"
     ]
    },
    {
     "data": {
      "image/png": "[encoded data removed]",
      "text/plain": [
       "<Figure size 432x288 with 1 Axes>"
      ]
     },
     "metadata": {
      "needs_background": "light"
     },
     "output_type": "display_data"
    },
    {
     "data": {
      "image/png": "[encoded data removed]",
      "text/plain": [
       "<Figure size 432x288 with 1 Axes>"
      ]
     },
     "metadata": {
      "needs_background": "light"
     },
     "output_type": "display_data"
    },
    {
     "data": {
      "image/png": "[encoded data removed]",
      "text/plain": [
       "<Figure size 432x288 with 1 Axes>"
      ]
     },
     "metadata": {
      "needs_background": "light"
     },
     "output_type": "display_data"
    }
   ],
   "source": [
    "# train \n",
    "trained_rbm = train_RBM(rbm_unit, X, epochs=500, learning_rate=0.1, batch_size=3, cd_k=1)\n",
    "# Reconstruisons les images \n",
    "generer_image_RBM(trained_rbm, nbr_iterations_gibbs=1000, nbr_images=3, image_shape=(20, 16))"
   ]
  },
  {
   "cell_type": "markdown",
   "id": "welcome-opening",
   "metadata": {},
   "source": [
    "# DBN"
   ]
  },
  {
   "cell_type": "code",
   "execution_count": null,
   "id": "naughty-latino",
   "metadata": {},
   "outputs": [],
   "source": [
    "import os \n",
    "import requests \n",
    "import scipy.io as sio\n",
    "from sklearn.datasets import fetch_openml\n",
    "import numpy as np\n",
    "import matplotlib.pyplot as plt\n",
    "from rbm import RBM\n",
    "from dnn import DNN\n",
    "from utils_projet import lire_alpha_digit, sigmoid\n",
    "from principal_RBM_alpha import init_RBM, entree_sortie_RBM,\\\n",
    "                                sortie_entree_RBM, train_RBM\n",
    "from principal_DBN_alpha import init_DNN, pretrain_DNN, generer_image_DBN"
   ]
  },
  {
   "cell_type": "code",
   "execution_count": 4,
   "id": "structured-wednesday",
   "metadata": {},
   "outputs": [
    {
     "name": "stdout",
     "output_type": "stream",
     "text": [
      "File already downloaded, using version in data folder..\n"
     ]
    }
   ],
   "source": [
    "# Récuperons les données\n",
    "digits_list = ['A', 'Z']\n",
    "# digits_list = ['A']\n",
    "# X a pour format (n, p). n = 39*nbr_digits pour alphadigits et 20*16 pixels par image\n",
    "X = lire_alpha_digit(digits_list)\n",
    "# Numéro de pixels de l'image\n",
    "p = X.shape[1]\n",
    "# numero de classes"
   ]
  },
  {
   "cell_type": "code",
   "execution_count": 5,
   "id": "accessible-alliance",
   "metadata": {},
   "outputs": [],
   "source": [
    "# Initializer le RBM \n",
    "# Source: https://www.ki.tu-berlin.de/fileadmin/fg135/publikationen/Hebbo_2013_CDB.pdf\n",
    "#hidden_layer_size = [1000, 1000, 2000]\n",
    "hidden_layer_size = [500, 500, 2000]\n",
    "nbr_classes = len(digits_list)\n",
    "dnn = init_DNN(p, hidden_layer_size, nbr_classes)"
   ]
  },
  {
   "cell_type": "code",
   "execution_count": 6,
   "id": "golden-workstation",
   "metadata": {},
   "outputs": [
    {
     "name": "stdout",
     "output_type": "stream",
     "text": [
      "2\n"
     ]
    }
   ],
   "source": [
    "print(nbr_classes)"
   ]
  },
  {
   "cell_type": "code",
   "execution_count": 7,
   "id": "australian-accountability",
   "metadata": {
    "tags": []
   },
   "outputs": [
    {
     "name": "stdout",
     "output_type": "stream",
     "text": [
      "Epoch: 0 -- Erreur de reconstruction: 0.3356169871794872\n",
      "Epoch: 1 -- Erreur de reconstruction: 0.3018429487179487\n",
      "Epoch: 2 -- Erreur de reconstruction: 0.27616185897435896\n",
      "Epoch: 3 -- Erreur de reconstruction: 0.26334134615384613\n",
      "Epoch: 4 -- Erreur de reconstruction: 0.24503205128205127\n",
      "Epoch: 5 -- Erreur de reconstruction: 0.22367788461538463\n",
      "Epoch: 6 -- Erreur de reconstruction: 0.20713141025641027\n",
      "Epoch: 7 -- Erreur de reconstruction: 0.19787660256410255\n",
      "Epoch: 8 -- Erreur de reconstruction: 0.1876201923076923\n",
      "Epoch: 9 -- Erreur de reconstruction: 0.17768429487179488\n",
      "Epoch: 10 -- Erreur de reconstruction: 0.17303685897435897\n",
      "Epoch: 11 -- Erreur de reconstruction: 0.1594951923076923\n",
      "Epoch: 12 -- Erreur de reconstruction: 0.16005608974358973\n",
      "Epoch: 13 -- Erreur de reconstruction: 0.1485977564102564\n",
      "Epoch: 14 -- Erreur de reconstruction: 0.1437900641025641\n",
      "Epoch: 15 -- Erreur de reconstruction: 0.13766025641025642\n",
      "Epoch: 16 -- Erreur de reconstruction: 0.12908653846153847\n",
      "Epoch: 17 -- Erreur de reconstruction: 0.12251602564102564\n",
      "Epoch: 18 -- Erreur de reconstruction: 0.11907051282051281\n",
      "Epoch: 19 -- Erreur de reconstruction: 0.11382211538461538\n",
      "Epoch: 20 -- Erreur de reconstruction: 0.10805288461538462\n",
      "Epoch: 21 -- Erreur de reconstruction: 0.10677083333333333\n",
      "Epoch: 22 -- Erreur de reconstruction: 0.09939903846153846\n",
      "Epoch: 23 -- Erreur de reconstruction: 0.09823717948717949\n",
      "Epoch: 24 -- Erreur de reconstruction: 0.09230769230769231\n",
      "Epoch: 25 -- Erreur de reconstruction: 0.08870192307692308\n",
      "Epoch: 26 -- Erreur de reconstruction: 0.08721955128205128\n",
      "Epoch: 27 -- Erreur de reconstruction: 0.08225160256410256\n",
      "Epoch: 28 -- Erreur de reconstruction: 0.08245192307692308\n",
      "Epoch: 29 -- Erreur de reconstruction: 0.0782051282051282\n",
      "Epoch: 30 -- Erreur de reconstruction: 0.07624198717948719\n",
      "Epoch: 31 -- Erreur de reconstruction: 0.07291666666666667\n",
      "Epoch: 32 -- Erreur de reconstruction: 0.06830929487179487\n",
      "Epoch: 33 -- Erreur de reconstruction: 0.06614583333333333\n",
      "Epoch: 34 -- Erreur de reconstruction: 0.06534455128205129\n",
      "Epoch: 35 -- Erreur de reconstruction: 0.06450320512820513\n",
      "Epoch: 36 -- Erreur de reconstruction: 0.06117788461538461\n",
      "Epoch: 37 -- Erreur de reconstruction: 0.0577323717948718\n",
      "Epoch: 38 -- Erreur de reconstruction: 0.05845352564102564\n",
      "Epoch: 39 -- Erreur de reconstruction: 0.05805288461538462\n",
      "Epoch: 40 -- Erreur de reconstruction: 0.0531650641025641\n",
      "Epoch: 41 -- Erreur de reconstruction: 0.048477564102564104\n",
      "Epoch: 42 -- Erreur de reconstruction: 0.05216346153846154\n",
      "Epoch: 43 -- Erreur de reconstruction: 0.05100160256410256\n",
      "Epoch: 44 -- Erreur de reconstruction: 0.04635416666666667\n",
      "Epoch: 45 -- Erreur de reconstruction: 0.047996794871794875\n",
      "Epoch: 46 -- Erreur de reconstruction: 0.04619391025641026\n",
      "Epoch: 47 -- Erreur de reconstruction: 0.044431089743589745\n",
      "Epoch: 48 -- Erreur de reconstruction: 0.04146634615384615\n",
      "Epoch: 49 -- Erreur de reconstruction: 0.04094551282051282\n",
      "Epoch: 50 -- Erreur de reconstruction: 0.03926282051282051\n",
      "Epoch: 51 -- Erreur de reconstruction: 0.03818108974358975\n",
      "Epoch: 52 -- Erreur de reconstruction: 0.03926282051282051\n",
      "Epoch: 53 -- Erreur de reconstruction: 0.03657852564102564\n",
      "Epoch: 54 -- Erreur de reconstruction: 0.03493589743589744\n",
      "Epoch: 55 -- Erreur de reconstruction: 0.03697916666666667\n",
      "Epoch: 56 -- Erreur de reconstruction: 0.03497596153846154\n",
      "Epoch: 57 -- Erreur de reconstruction: 0.033373397435897435\n",
      "Epoch: 58 -- Erreur de reconstruction: 0.0312900641025641\n",
      "Epoch: 59 -- Erreur de reconstruction: 0.03397435897435897\n",
      "Epoch: 60 -- Erreur de reconstruction: 0.031490384615384615\n",
      "Epoch: 61 -- Erreur de reconstruction: 0.03108974358974359\n",
      "Epoch: 62 -- Erreur de reconstruction: 0.02876602564102564\n",
      "Epoch: 63 -- Erreur de reconstruction: 0.03169070512820513\n",
      "Epoch: 64 -- Erreur de reconstruction: 0.029126602564102565\n",
      "Epoch: 65 -- Erreur de reconstruction: 0.029607371794871794\n",
      "Epoch: 66 -- Erreur de reconstruction: 0.027083333333333334\n",
      "Epoch: 67 -- Erreur de reconstruction: 0.029006410256410257\n",
      "Epoch: 68 -- Erreur de reconstruction: 0.02471955128205128\n",
      "Epoch: 69 -- Erreur de reconstruction: 0.02732371794871795\n",
      "Epoch: 70 -- Erreur de reconstruction: 0.024118589743589745\n",
      "Epoch: 71 -- Erreur de reconstruction: 0.025\n",
      "Epoch: 72 -- Erreur de reconstruction: 0.024799679487179486\n",
      "Epoch: 73 -- Erreur de reconstruction: 0.023958333333333335\n",
      "Epoch: 74 -- Erreur de reconstruction: 0.02311698717948718\n",
      "Epoch: 75 -- Erreur de reconstruction: 0.024318910256410257\n",
      "Epoch: 76 -- Erreur de reconstruction: 0.021274038461538462\n",
      "Epoch: 77 -- Erreur de reconstruction: 0.022756410256410255\n",
      "Epoch: 78 -- Erreur de reconstruction: 0.02199519230769231\n",
      "Epoch: 79 -- Erreur de reconstruction: 0.02159455128205128\n",
      "Epoch: 80 -- Erreur de reconstruction: 0.020592948717948718\n",
      "Epoch: 81 -- Erreur de reconstruction: 0.020713141025641025\n",
      "Epoch: 82 -- Erreur de reconstruction: 0.020072115384615386\n",
      "Epoch: 83 -- Erreur de reconstruction: 0.019831730769230768\n",
      "Epoch: 84 -- Erreur de reconstruction: 0.01935096153846154\n",
      "Epoch: 85 -- Erreur de reconstruction: 0.021314102564102565\n",
      "Epoch: 86 -- Erreur de reconstruction: 0.019030448717948716\n",
      "Epoch: 87 -- Erreur de reconstruction: 0.018629807692307692\n",
      "Epoch: 88 -- Erreur de reconstruction: 0.01919070512820513\n",
      "Epoch: 89 -- Erreur de reconstruction: 0.01895032051282051\n",
      "Epoch: 90 -- Erreur de reconstruction: 0.01498397435897436\n",
      "Epoch: 91 -- Erreur de reconstruction: 0.018629807692307692\n",
      "Epoch: 92 -- Erreur de reconstruction: 0.016145833333333335\n",
      "Epoch: 93 -- Erreur de reconstruction: 0.016145833333333335\n",
      "Epoch: 94 -- Erreur de reconstruction: 0.017788461538461538\n",
      "Epoch: 95 -- Erreur de reconstruction: 0.015745192307692307\n",
      "Epoch: 96 -- Erreur de reconstruction: 0.01594551282051282\n",
      "Epoch: 97 -- Erreur de reconstruction: 0.015865384615384615\n",
      "Epoch: 98 -- Erreur de reconstruction: 0.016266025641025642\n",
      "Epoch: 99 -- Erreur de reconstruction: 0.015264423076923076\n",
      "Epoch: 0 -- Erreur de reconstruction: 0.22794871794871796\n",
      "Epoch: 1 -- Erreur de reconstruction: 0.20502564102564103\n",
      "Epoch: 2 -- Erreur de reconstruction: 0.18469230769230768\n",
      "Epoch: 3 -- Erreur de reconstruction: 0.1733846153846154\n",
      "Epoch: 4 -- Erreur de reconstruction: 0.15897435897435896\n",
      "Epoch: 5 -- Erreur de reconstruction: 0.14302564102564103\n",
      "Epoch: 6 -- Erreur de reconstruction: 0.13407692307692307\n",
      "Epoch: 7 -- Erreur de reconstruction: 0.12771794871794873\n",
      "Epoch: 8 -- Erreur de reconstruction: 0.12115384615384615\n",
      "Epoch: 9 -- Erreur de reconstruction: 0.11194871794871795\n",
      "Epoch: 10 -- Erreur de reconstruction: 0.10474358974358974\n",
      "Epoch: 11 -- Erreur de reconstruction: 0.09776923076923077\n",
      "Epoch: 12 -- Erreur de reconstruction: 0.09207692307692307\n",
      "Epoch: 13 -- Erreur de reconstruction: 0.08928205128205129\n",
      "Epoch: 14 -- Erreur de reconstruction: 0.08366666666666667\n",
      "Epoch: 15 -- Erreur de reconstruction: 0.08102564102564103\n",
      "Epoch: 16 -- Erreur de reconstruction: 0.07407692307692308\n",
      "Epoch: 17 -- Erreur de reconstruction: 0.07243589743589744\n",
      "Epoch: 18 -- Erreur de reconstruction: 0.0663076923076923\n",
      "Epoch: 19 -- Erreur de reconstruction: 0.0658974358974359\n",
      "Epoch: 20 -- Erreur de reconstruction: 0.062205128205128205\n",
      "Epoch: 21 -- Erreur de reconstruction: 0.057\n",
      "Epoch: 22 -- Erreur de reconstruction: 0.055205128205128205\n",
      "Epoch: 23 -- Erreur de reconstruction: 0.05235897435897436\n",
      "Epoch: 24 -- Erreur de reconstruction: 0.05020512820512821\n",
      "Epoch: 25 -- Erreur de reconstruction: 0.04853846153846154\n",
      "Epoch: 26 -- Erreur de reconstruction: 0.04546153846153846\n",
      "Epoch: 27 -- Erreur de reconstruction: 0.043923076923076926\n",
      "Epoch: 28 -- Erreur de reconstruction: 0.042076923076923074\n",
      "Epoch: 29 -- Erreur de reconstruction: 0.04158974358974359\n",
      "Epoch: 30 -- Erreur de reconstruction: 0.04046153846153846\n",
      "Epoch: 31 -- Erreur de reconstruction: 0.03930769230769231\n",
      "Epoch: 32 -- Erreur de reconstruction: 0.03717948717948718\n",
      "Epoch: 33 -- Erreur de reconstruction: 0.03376923076923077\n",
      "Epoch: 34 -- Erreur de reconstruction: 0.03294871794871795\n",
      "Epoch: 35 -- Erreur de reconstruction: 0.03230769230769231\n",
      "Epoch: 36 -- Erreur de reconstruction: 0.03107692307692308\n",
      "Epoch: 37 -- Erreur de reconstruction: 0.029205128205128206\n",
      "Epoch: 38 -- Erreur de reconstruction: 0.028\n",
      "Epoch: 39 -- Erreur de reconstruction: 0.027717948717948717\n",
      "Epoch: 40 -- Erreur de reconstruction: 0.02717948717948718\n",
      "Epoch: 41 -- Erreur de reconstruction: 0.025794871794871794\n",
      "Epoch: 42 -- Erreur de reconstruction: 0.025743589743589743\n",
      "Epoch: 43 -- Erreur de reconstruction: 0.02646153846153846\n",
      "Epoch: 44 -- Erreur de reconstruction: 0.022923076923076924\n",
      "Epoch: 45 -- Erreur de reconstruction: 0.02335897435897436\n",
      "Epoch: 46 -- Erreur de reconstruction: 0.02246153846153846\n",
      "Epoch: 47 -- Erreur de reconstruction: 0.02141025641025641\n",
      "Epoch: 48 -- Erreur de reconstruction: 0.020512820512820513\n",
      "Epoch: 49 -- Erreur de reconstruction: 0.02046153846153846\n",
      "Epoch: 50 -- Erreur de reconstruction: 0.020205128205128205\n",
      "Epoch: 51 -- Erreur de reconstruction: 0.019358974358974358\n",
      "Epoch: 52 -- Erreur de reconstruction: 0.020487179487179485\n",
      "Epoch: 53 -- Erreur de reconstruction: 0.01917948717948718\n",
      "Epoch: 54 -- Erreur de reconstruction: 0.018666666666666668\n",
      "Epoch: 55 -- Erreur de reconstruction: 0.017948717948717947\n",
      "Epoch: 56 -- Erreur de reconstruction: 0.017538461538461537\n",
      "Epoch: 57 -- Erreur de reconstruction: 0.016743589743589745\n",
      "Epoch: 58 -- Erreur de reconstruction: 0.017948717948717947\n",
      "Epoch: 59 -- Erreur de reconstruction: 0.016\n",
      "Epoch: 60 -- Erreur de reconstruction: 0.01676923076923077\n",
      "Epoch: 61 -- Erreur de reconstruction: 0.015461538461538462\n",
      "Epoch: 62 -- Erreur de reconstruction: 0.014871794871794871\n",
      "Epoch: 63 -- Erreur de reconstruction: 0.014051282051282052\n",
      "Epoch: 64 -- Erreur de reconstruction: 0.014769230769230769\n",
      "Epoch: 65 -- Erreur de reconstruction: 0.014769230769230769\n",
      "Epoch: 66 -- Erreur de reconstruction: 0.014102564102564103\n",
      "Epoch: 67 -- Erreur de reconstruction: 0.013153846153846153\n",
      "Epoch: 68 -- Erreur de reconstruction: 0.014051282051282052\n",
      "Epoch: 69 -- Erreur de reconstruction: 0.013794871794871795\n",
      "Epoch: 70 -- Erreur de reconstruction: 0.013666666666666667\n",
      "Epoch: 71 -- Erreur de reconstruction: 0.012871794871794871\n",
      "Epoch: 72 -- Erreur de reconstruction: 0.011948717948717949\n",
      "Epoch: 73 -- Erreur de reconstruction: 0.013\n",
      "Epoch: 74 -- Erreur de reconstruction: 0.012358974358974359\n",
      "Epoch: 75 -- Erreur de reconstruction: 0.011564102564102565\n",
      "Epoch: 76 -- Erreur de reconstruction: 0.011923076923076923\n",
      "Epoch: 77 -- Erreur de reconstruction: 0.012666666666666666\n",
      "Epoch: 78 -- Erreur de reconstruction: 0.011461538461538462\n",
      "Epoch: 79 -- Erreur de reconstruction: 0.012102564102564103\n",
      "Epoch: 80 -- Erreur de reconstruction: 0.011435897435897437\n",
      "Epoch: 81 -- Erreur de reconstruction: 0.011153846153846153\n",
      "Epoch: 82 -- Erreur de reconstruction: 0.010615384615384615\n",
      "Epoch: 83 -- Erreur de reconstruction: 0.010923076923076923\n",
      "Epoch: 84 -- Erreur de reconstruction: 0.009461538461538462\n",
      "Epoch: 85 -- Erreur de reconstruction: 0.009846153846153846\n",
      "Epoch: 86 -- Erreur de reconstruction: 0.010794871794871794\n",
      "Epoch: 87 -- Erreur de reconstruction: 0.009333333333333334\n",
      "Epoch: 88 -- Erreur de reconstruction: 0.01064102564102564\n",
      "Epoch: 89 -- Erreur de reconstruction: 0.009564102564102565\n",
      "Epoch: 90 -- Erreur de reconstruction: 0.009820512820512821\n",
      "Epoch: 91 -- Erreur de reconstruction: 0.009333333333333334\n",
      "Epoch: 92 -- Erreur de reconstruction: 0.009846153846153846\n",
      "Epoch: 93 -- Erreur de reconstruction: 0.009076923076923076\n",
      "Epoch: 94 -- Erreur de reconstruction: 0.009384615384615385\n",
      "Epoch: 95 -- Erreur de reconstruction: 0.008307692307692308\n",
      "Epoch: 96 -- Erreur de reconstruction: 0.009205128205128204\n",
      "Epoch: 97 -- Erreur de reconstruction: 0.007897435897435898\n",
      "Epoch: 98 -- Erreur de reconstruction: 0.008333333333333333\n",
      "Epoch: 99 -- Erreur de reconstruction: 0.008282051282051282\n",
      "Epoch: 0 -- Erreur de reconstruction: 0.24107692307692308\n",
      "Epoch: 1 -- Erreur de reconstruction: 0.2093076923076923\n",
      "Epoch: 2 -- Erreur de reconstruction: 0.18682051282051282\n",
      "Epoch: 3 -- Erreur de reconstruction: 0.1646923076923077\n",
      "Epoch: 4 -- Erreur de reconstruction: 0.14548717948717949\n",
      "Epoch: 5 -- Erreur de reconstruction: 0.13433333333333333\n",
      "Epoch: 6 -- Erreur de reconstruction: 0.12507692307692309\n",
      "Epoch: 7 -- Erreur de reconstruction: 0.10994871794871795\n",
      "Epoch: 8 -- Erreur de reconstruction: 0.10005128205128205\n",
      "Epoch: 9 -- Erreur de reconstruction: 0.09382051282051282\n",
      "Epoch: 10 -- Erreur de reconstruction: 0.08271794871794871\n",
      "Epoch: 11 -- Erreur de reconstruction: 0.0778974358974359\n",
      "Epoch: 12 -- Erreur de reconstruction: 0.07002564102564103\n",
      "Epoch: 13 -- Erreur de reconstruction: 0.06376923076923077\n",
      "Epoch: 14 -- Erreur de reconstruction: 0.06094871794871795\n",
      "Epoch: 15 -- Erreur de reconstruction: 0.05469230769230769\n",
      "Epoch: 16 -- Erreur de reconstruction: 0.05146153846153846\n",
      "Epoch: 17 -- Erreur de reconstruction: 0.044717948717948715\n",
      "Epoch: 18 -- Erreur de reconstruction: 0.043512820512820516\n",
      "Epoch: 19 -- Erreur de reconstruction: 0.04066666666666666\n",
      "Epoch: 20 -- Erreur de reconstruction: 0.03794871794871795\n",
      "Epoch: 21 -- Erreur de reconstruction: 0.03669230769230769\n",
      "Epoch: 22 -- Erreur de reconstruction: 0.032846153846153844\n",
      "Epoch: 23 -- Erreur de reconstruction: 0.031384615384615386\n",
      "Epoch: 24 -- Erreur de reconstruction: 0.02935897435897436\n",
      "Epoch: 25 -- Erreur de reconstruction: 0.028\n",
      "Epoch: 26 -- Erreur de reconstruction: 0.027\n",
      "Epoch: 27 -- Erreur de reconstruction: 0.025205128205128206\n",
      "Epoch: 28 -- Erreur de reconstruction: 0.022282051282051282\n",
      "Epoch: 29 -- Erreur de reconstruction: 0.023564102564102563\n",
      "Epoch: 30 -- Erreur de reconstruction: 0.021564102564102565\n",
      "Epoch: 31 -- Erreur de reconstruction: 0.020025641025641024\n",
      "Epoch: 32 -- Erreur de reconstruction: 0.018820512820512822\n",
      "Epoch: 33 -- Erreur de reconstruction: 0.01728205128205128\n",
      "Epoch: 34 -- Erreur de reconstruction: 0.018358974358974357\n",
      "Epoch: 35 -- Erreur de reconstruction: 0.01764102564102564\n",
      "Epoch: 36 -- Erreur de reconstruction: 0.016512820512820513\n",
      "Epoch: 37 -- Erreur de reconstruction: 0.01505128205128205\n",
      "Epoch: 38 -- Erreur de reconstruction: 0.015487179487179488\n",
      "Epoch: 39 -- Erreur de reconstruction: 0.01505128205128205\n",
      "Epoch: 40 -- Erreur de reconstruction: 0.013564102564102565\n",
      "Epoch: 41 -- Erreur de reconstruction: 0.01353846153846154\n",
      "Epoch: 42 -- Erreur de reconstruction: 0.013384615384615385\n",
      "Epoch: 43 -- Erreur de reconstruction: 0.013307692307692307\n",
      "Epoch: 44 -- Erreur de reconstruction: 0.012897435897435897\n",
      "Epoch: 45 -- Erreur de reconstruction: 0.012205128205128205\n",
      "Epoch: 46 -- Erreur de reconstruction: 0.011974358974358975\n",
      "Epoch: 47 -- Erreur de reconstruction: 0.012794871794871794\n",
      "Epoch: 48 -- Erreur de reconstruction: 0.01105128205128205\n",
      "Epoch: 49 -- Erreur de reconstruction: 0.009846153846153846\n",
      "Epoch: 50 -- Erreur de reconstruction: 0.010307692307692308\n",
      "Epoch: 51 -- Erreur de reconstruction: 0.00976923076923077\n",
      "Epoch: 52 -- Erreur de reconstruction: 0.010435897435897436\n",
      "Epoch: 53 -- Erreur de reconstruction: 0.010102564102564103\n",
      "Epoch: 54 -- Erreur de reconstruction: 0.009230769230769232\n",
      "Epoch: 55 -- Erreur de reconstruction: 0.009820512820512821\n",
      "Epoch: 56 -- Erreur de reconstruction: 0.009282051282051283\n",
      "Epoch: 57 -- Erreur de reconstruction: 0.009153846153846153\n",
      "Epoch: 58 -- Erreur de reconstruction: 0.009\n",
      "Epoch: 59 -- Erreur de reconstruction: 0.007871794871794872\n",
      "Epoch: 60 -- Erreur de reconstruction: 0.008461538461538461\n",
      "Epoch: 61 -- Erreur de reconstruction: 0.008358974358974359\n",
      "Epoch: 62 -- Erreur de reconstruction: 0.008461538461538461\n",
      "Epoch: 63 -- Erreur de reconstruction: 0.007923076923076923\n",
      "Epoch: 64 -- Erreur de reconstruction: 0.007615384615384615\n",
      "Epoch: 65 -- Erreur de reconstruction: 0.00782051282051282\n",
      "Epoch: 66 -- Erreur de reconstruction: 0.007794871794871795\n",
      "Epoch: 67 -- Erreur de reconstruction: 0.0075128205128205125\n",
      "Epoch: 68 -- Erreur de reconstruction: 0.007717948717948718\n",
      "Epoch: 69 -- Erreur de reconstruction: 0.006487179487179487\n",
      "Epoch: 70 -- Erreur de reconstruction: 0.006743589743589744\n",
      "Epoch: 71 -- Erreur de reconstruction: 0.006846153846153846\n",
      "Epoch: 72 -- Erreur de reconstruction: 0.007051282051282051\n",
      "Epoch: 73 -- Erreur de reconstruction: 0.006564102564102564\n",
      "Epoch: 74 -- Erreur de reconstruction: 0.007461538461538461\n",
      "Epoch: 75 -- Erreur de reconstruction: 0.006743589743589744\n",
      "Epoch: 76 -- Erreur de reconstruction: 0.005615384615384615\n",
      "Epoch: 77 -- Erreur de reconstruction: 0.006\n",
      "Epoch: 78 -- Erreur de reconstruction: 0.0061794871794871795\n",
      "Epoch: 79 -- Erreur de reconstruction: 0.0065128205128205125\n",
      "Epoch: 80 -- Erreur de reconstruction: 0.005948717948717949\n",
      "Epoch: 81 -- Erreur de reconstruction: 0.005923076923076923\n",
      "Epoch: 82 -- Erreur de reconstruction: 0.005871794871794872\n",
      "Epoch: 83 -- Erreur de reconstruction: 0.0061794871794871795\n",
      "Epoch: 84 -- Erreur de reconstruction: 0.005461538461538461\n",
      "Epoch: 85 -- Erreur de reconstruction: 0.005666666666666667\n",
      "Epoch: 86 -- Erreur de reconstruction: 0.0057692307692307696\n",
      "Epoch: 87 -- Erreur de reconstruction: 0.005205128205128205\n",
      "Epoch: 88 -- Erreur de reconstruction: 0.005615384615384615\n",
      "Epoch: 89 -- Erreur de reconstruction: 0.004820512820512821\n",
      "Epoch: 90 -- Erreur de reconstruction: 0.005564102564102564\n",
      "Epoch: 91 -- Erreur de reconstruction: 0.004923076923076923\n",
      "Epoch: 92 -- Erreur de reconstruction: 0.004948717948717949\n",
      "Epoch: 93 -- Erreur de reconstruction: 0.004641025641025641\n",
      "Epoch: 94 -- Erreur de reconstruction: 0.005384615384615384\n",
      "Epoch: 95 -- Erreur de reconstruction: 0.004897435897435898\n",
      "Epoch: 96 -- Erreur de reconstruction: 0.004\n",
      "Epoch: 97 -- Erreur de reconstruction: 0.004256410256410256\n",
      "Epoch: 98 -- Erreur de reconstruction: 0.004692307692307693\n",
      "Epoch: 99 -- Erreur de reconstruction: 0.004615384615384616\n"
     ]
    },
    {
     "data": {
      "image/png": "[encoded data removed]",
      "text/plain": [
       "<Figure size 432x288 with 1 Axes>"
      ]
     },
     "metadata": {
      "needs_background": "light"
     },
     "output_type": "display_data"
    },
    {
     "data": {
      "image/png": "[encoded data removed]",
      "text/plain": [
       "<Figure size 432x288 with 1 Axes>"
      ]
     },
     "metadata": {
      "needs_background": "light"
     },
     "output_type": "display_data"
    },
    {
     "data": {
      "image/png": "[encoded data removed]",
      "text/plain": [
       "<Figure size 432x288 with 1 Axes>"
      ]
     },
     "metadata": {
      "needs_background": "light"
     },
     "output_type": "display_data"
    },
    {
     "data": {
      "image/png": "[encoded data removed]",
      "text/plain": [
       "<Figure size 432x288 with 1 Axes>"
      ]
     },
     "metadata": {
      "needs_background": "light"
     },
     "output_type": "display_data"
    },
    {
     "data": {
      "image/png": "[encoded data removed]",
      "text/plain": [
       "<Figure size 432x288 with 1 Axes>"
      ]
     },
     "metadata": {
      "needs_background": "light"
     },
     "output_type": "display_data"
    },
    {
     "data": {
      "image/png": "[encoded data removed]",
      "text/plain": [
       "<Figure size 432x288 with 1 Axes>"
      ]
     },
     "metadata": {
      "needs_background": "light"
     },
     "output_type": "display_data"
    },
    {
     "data": {
      "image/png": "[encoded data removed]",
      "text/plain": [
       "<Figure size 432x288 with 1 Axes>"
      ]
     },
     "metadata": {
      "needs_background": "light"
     },
     "output_type": "display_data"
    },
    {
     "data": {
      "image/png": "[encoded data removed]",
      "text/plain": [
       "<Figure size 432x288 with 1 Axes>"
      ]
     },
     "metadata": {
      "needs_background": "light"
     },
     "output_type": "display_data"
    },
    {
     "data": {
      "image/png": "[encoded data removed]",
      "text/plain": [
       "<Figure size 432x288 with 1 Axes>"
      ]
     },
     "metadata": {
      "needs_background": "light"
     },
     "output_type": "display_data"
    },
    {
     "data": {
      "image/png": "[encoded data removed]",
      "text/plain": [
       "<Figure size 432x288 with 1 Axes>"
      ]
     },
     "metadata": {
      "needs_background": "light"
     },
     "output_type": "display_data"
    },
    {
     "data": {
      "image/png": "[encoded data removed]",
      "text/plain": [
       "<Figure size 432x288 with 1 Axes>"
      ]
     },
     "metadata": {
      "needs_background": "light"
     },
     "output_type": "display_data"
    },
    {
     "data": {
      "image/png": "[encoded data removed]",
      "text/plain": [
       "<Figure size 432x288 with 1 Axes>"
      ]
     },
     "metadata": {
      "needs_background": "light"
     },
     "output_type": "display_data"
    },
    {
     "data": {
      "image/png": "[encoded data removed]",
      "text/plain": [
       "<Figure size 432x288 with 1 Axes>"
      ]
     },
     "metadata": {
      "needs_background": "light"
     },
     "output_type": "display_data"
    },
    {
     "data": {
      "image/png": "[encoded data removed]",
      "text/plain": [
       "<Figure size 432x288 with 1 Axes>"
      ]
     },
     "metadata": {
      "needs_background": "light"
     },
     "output_type": "display_data"
    },
    {
     "data": {
      "image/png": "[encoded data removed]",
      "text/plain": [
       "<Figure size 432x288 with 1 Axes>"
      ]
     },
     "metadata": {
      "needs_background": "light"
     },
     "output_type": "display_data"
    }
   ],
   "source": [
    "# train \n",
    "dnn = pretrain_DNN(dnn, X, epochs=100, learning_rate=0.1, batch_size=10)\n",
    "\n",
    "#trained_rbm = pretrain_DNN(rbm_unit, X, epochs=50, learning_rate=0.1, batch_size=3, cd_k=1)"
   ]
  },
  {
   "cell_type": "code",
   "execution_count": 9,
   "id": "experienced-texture",
   "metadata": {},
   "outputs": [
    {
     "data": {
      "image/png": "[encoded data removed]",
      "text/plain": [
       "<Figure size 432x288 with 1 Axes>"
      ]
     },
     "metadata": {
      "needs_background": "light"
     },
     "output_type": "display_data"
    },
    {
     "data": {
      "image/png": "[encoded data removed]",
      "text/plain": [
       "<Figure size 432x288 with 1 Axes>"
      ]
     },
     "metadata": {
      "needs_background": "light"
     },
     "output_type": "display_data"
    },
    {
     "data": {
      "image/png": "[encoded data removed]",
      "text/plain": [
       "<Figure size 432x288 with 1 Axes>"
      ]
     },
     "metadata": {
      "needs_background": "light"
     },
     "output_type": "display_data"
    },
    {
     "data": {
      "image/png": "[encoded data removed]",
      "text/plain": [
       "<Figure size 432x288 with 1 Axes>"
      ]
     },
     "metadata": {
      "needs_background": "light"
     },
     "output_type": "display_data"
    },
    {
     "data": {
      "image/png": "[encoded data removed]",
      "text/plain": [
       "<Figure size 432x288 with 1 Axes>"
      ]
     },
     "metadata": {
      "needs_background": "light"
     },
     "output_type": "display_data"
    },
    {
     "data": {
      "image/png": "[encoded data removed]",
      "text/plain": [
       "<Figure size 432x288 with 1 Axes>"
      ]
     },
     "metadata": {
      "needs_background": "light"
     },
     "output_type": "display_data"
    },
    {
     "data": {
      "image/png": "[encoded data removed]",
      "text/plain": [
       "<Figure size 432x288 with 1 Axes>"
      ]
     },
     "metadata": {
      "needs_background": "light"
     },
     "output_type": "display_data"
    },
    {
     "data": {
      "image/png": "[encoded data removed]",
      "text/plain": [
       "<Figure size 432x288 with 1 Axes>"
      ]
     },
     "metadata": {
      "needs_background": "light"
     },
     "output_type": "display_data"
    },
    {
     "data": {
      "image/png": "[encoded data removed]",
      "text/plain": [
       "<Figure size 432x288 with 1 Axes>"
      ]
     },
     "metadata": {
      "needs_background": "light"
     },
     "output_type": "display_data"
    },
    {
     "data": {
      "image/png": "[encoded data removed]",
      "text/plain": [
       "<Figure size 432x288 with 1 Axes>"
      ]
     },
     "metadata": {
      "needs_background": "light"
     },
     "output_type": "display_data"
    }
   ],
   "source": [
    "# Reconstruisons les images \n",
    "generer_image_DBN(dnn, nbr_iterations_gibbs=1000, nbr_images=10, image_shape=(20, 16))"
   ]
  },
  {
   "cell_type": "code",
   "execution_count": 12,
   "id": "boxed-paraguay",
   "metadata": {},
   "outputs": [
    {
     "data": {
      "text/plain": [
       "1"
      ]
     },
     "execution_count": 12,
     "metadata": {},
     "output_type": "execute_result"
    }
   ],
   "source": [
    "dnn.DBN[-1].q"
   ]
  },
  {
   "cell_type": "code",
   "execution_count": null,
   "id": "compound-length",
   "metadata": {},
   "outputs": [],
   "source": []
  }
 ],
 "metadata": {
  "kernelspec": {
   "display_name": "Python 3",
   "language": "python",
   "name": "python3"
  },
  "language_info": {
   "codemirror_mode": {
    "name": "ipython",
    "version": 3
   },
   "file_extension": ".py",
   "mimetype": "text/x-python",
   "name": "python",
   "nbconvert_exporter": "python",
   "pygments_lexer": "ipython3",
   "version": "3.6.12"
  }
 },
 "nbformat": 4,
 "nbformat_minor": 5
}
